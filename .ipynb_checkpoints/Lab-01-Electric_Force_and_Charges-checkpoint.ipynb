{
 "cells": [
  {
   "cell_type": "code",
   "execution_count": 1,
   "metadata": {},
   "outputs": [
    {
     "data": {
      "text/html": [
       "\n",
       "<script>\n",
       "\n",
       "    // Automatically hides code, but can be toggled to display/hide code\n",
       "\n",
       "    code_show=true; \n",
       "    function code_toggle() {\n",
       "        if (code_show){\n",
       "            $('div.input').hide();\n",
       "        } else {\n",
       "            $('div.input').show();\n",
       "        }\n",
       "        code_show = !code_show\n",
       "    } \n",
       "    $( document ).ready(code_toggle);\n",
       "\n",
       "</script>\n",
       "\n",
       "<form action=\"javascript:code_toggle()\"><input type=\"submit\" value=\"Toggle Display Code\"></form>"
      ],
      "text/plain": [
       "<IPython.core.display.HTML object>"
      ]
     },
     "metadata": {},
     "output_type": "display_data"
    }
   ],
   "source": [
    "%%html\n",
    "\n",
    "<script>\n",
    "\n",
    "    // Automatically hides code, but can be toggled to display/hide code\n",
    "\n",
    "    code_show=true; \n",
    "    function code_toggle() {\n",
    "        if (code_show){\n",
    "            $('div.input').hide();\n",
    "        } else {\n",
    "            $('div.input').show();\n",
    "        }\n",
    "        code_show = !code_show\n",
    "    } \n",
    "    $( document ).ready(code_toggle);\n",
    "\n",
    "</script>\n",
    "\n",
    "<form action=\"javascript:code_toggle()\"><input type=\"submit\" value=\"Toggle Display Code\"></form>"
   ]
  },
  {
   "cell_type": "markdown",
   "metadata": {},
   "source": [
    "# Jupyter Notebook Instructions\n",
    "- <div class=\"alert alert-block alert-info\">To begin, click 'Cell' on the toolbar then select 'Run All'. __Only do this once__.</div>\n",
    "- <div class=\"alert alert-block alert-warning\">__All work must be done in Markdown cells.__ To __type a response__ in a Markdown cell, __double click the Markdown cell then begin writing__. When __finished, press _shift_ and _enter___ and your text will render.</div>\n",
    "- <div class=\"alert alert-block alert-success\"> To insert a Markdown cell, click the small '+' icon located just below the 'file' button on the toolbar. Then change the cell type from Code to Markdown by clicking on the pull down menu located just below the 'Widgets button on the toolbar.</div>"
   ]
  },
  {
   "cell_type": "markdown",
   "metadata": {},
   "source": [
    "### Refer to the links at the bottom of the page for ways to create symbols, tables, and lists in Markdown."
   ]
  },
  {
   "cell_type": "markdown",
   "metadata": {},
   "source": [
    "# Specific Objectives\n",
    "\n",
    "The objective of this lab is to familiarize yourself with basic properties of electric effects that you can observe in everyday experience. You will explore simple electrostatic phenomena discussed in Chapter 21 of the textbook by Halliday, Resnick, and Walker. Some of the key ideas are summarized in the Background section below."
   ]
  },
  {
   "cell_type": "markdown",
   "metadata": {},
   "source": [
    "# Background\n",
    "\n",
    "### Electric forces and electric charges in everyday life\n",
    "__Electric force & charge__: The __electric force__ is one of the main forces encountered in nature.\n",
    "The strength of the electric force varies depending on the object. When an object is able to\n",
    "interact by an electric force, we say that this object carries an __electric charge__. The charge can\n",
    "be transferred from one object to another. Furthermore, you will observe today that the\n",
    "electric force can be repelling or attractive, which can be explained by assuming that the\n",
    "__charges can be either positive or negative__. A charged object will repel another object with a\n",
    "like-sign charge, while it will attract another object with an opposite-sign charge. At the\n",
    "atomic level, the __positive charge is carried by__ tiny particles called __protons__, and the __negative\n",
    "charge is carried by electrons__. In most situations, opposite charges cancel one another by\n",
    "forming __neutral__ atoms and molecules that contain equal amount of positive and negative\n",
    "charges (so that the total charge of the atom is zero). Nevertheless, there are processes such as\n",
    "friction of two objects, deformation and rupture, in which the opposite charges are forced to\n",
    "separate, resulting in a nonzero net charge that can be observed.\n",
    "\n",
    "<br>__Point charges and Coulomb’s law__. In general, the computation of the electric force requires\n",
    "lengthy calculations, but the mathematical description becomes very simple for __point\n",
    "charges__. If a charged object has a very small size compared to the distance $r$ to the other\n",
    "charges, it essentially behaves as a charge located at a single point. The electric force\n",
    "between two point charges, $q_1$ and $q_2$, is given by Coulomb’s law, which states that the force\n",
    "\n",
    "$F_{1←2}$ that $q_2$ exerts on $q_1$ is given by <br>\n",
    "<center>$F_{1←2}=\\frac{k q_1 q_2}{r^2}$</center><br>\n",
    "where $k$ is a proportionality constant. The direction of the force is along the line between the\n",
    "two charges. Like-signed charges repel, and unlike-signed charges attract. Here the concept of\n",
    "the point charge is important, because without this idealization the distance between the two\n",
    "charges and the direction of the force would be ambiguous. For two point charges, the\n",
    "distance r and the direction of the force are well defined, and Coulomb’s law is accurate.<br>\n",
    "\n",
    "__Superposition principle__: When dealing with systems containing more than two charges,\n",
    "Coulomb’s law still applies to each charge pair. This means that the force between any two\n",
    "charges in the system is independent of the presence of the other charges nearby.<br>\n",
    "\n",
    "The net force __F__ exerted on a charge $Q$ is the summation of the pair-forces $\\pmb F_i$ exerted by each\n",
    "of the other charges $q_i$:\n",
    "\n",
    "<br>\n",
    "<center>$\\pmb F = \\pmb F_{Q←q_1}+\\pmb F_{Q←q_2}+...+\\pmb F_{Q←q_N},$</center><br>\n",
    "where each pairwise force is found by using the Coulomb's law,<br>\n",
    "<center>$\\pmb F_{Q←q_i}=k\\frac{Qq_i}{r^2_Q←q_i}\\hat{\\pmb r}_{Q←q_i}$ for $i = 1,2,...,N.$</center><br>\n",
    "\n",
    "__Keep in mind that each electric force is a vector__ (denoted by the bold face font in this\n",
    "write-up or by an arrow in your textbook). It is directed along the unit vector $\\hat{\\pmb r}_{Q←q_i}$\n",
    "pointing\n",
    "from the source charge $q_i$\n",
    " to the test charge $Q$. The addition of several forces must be done\n",
    "under the rules of vector summation.\n",
    "<br>\n",
    "The following figure shows an example of applying the superposition principle stated above\n",
    "to a four particle system. To obtain the net force exerted on particle B, we first find the forces\n",
    "exerted on it by each of the other three particles using Coulomb’s Law, and after that sum\n",
    "these three force vectors.\n",
    "<br>\n",
    "\n",
    "![pic1.png](attachment:pic1.png)\n",
    "\n",
    "__Charge distributions & volume charge density__. The point charge model describes a certain\n",
    "amount of charge concentrated in a very small volume that could be seen as a point. To\n",
    "address situations when charge is spread over three dimensional objects whose sizes cannot be\n",
    "neglected, it is convenient to introduce the idea of a __volume charge density__, denoted by\n",
    "$\\rho(x,y,z)$.\n",
    "<br>\n",
    "\n",
    "If $dq$ is the charge contained in a small volume $dV=dxdydz$ around a point $P$ with coordinates\n",
    "$x, y, z$, then the volume charge density at this point is defined as<br>\n",
    " <center>$\\rho(x,y,z)=dq/dV$</center><br>\n",
    "The volume charge density is reminiscent of the volume mass density $\\rho_m(x,y,z)=dm/dV$ that\n",
    "was encountered in the determination of the center-of-mass in the mechanics class. However,\n",
    "$\\rho(x,y,z)$ describes the distribution of electric charge and not of mass. <br>\n",
    "\n",
    "In the case of a __uniform charge distribution__, charge density is the same at all points,\n",
    "$\\rho=q/V$ independently of $x,y,z$, where $q$ and $\\pmb V$ are the total charge and volume. But in general\n",
    "its value varies at different space points inside charged objects.<br>\n",
    "\n",
    "Charge density can be used to compute the electric force between charged objects with nonnegligible\n",
    "size. You will encounter many examples of such calculations in your textbook. In\n",
    "this lab, we will perform a few simple exercises to help you get used to manipulating the\n",
    "charge density. This experience will help you to solve various problems in the later parts of\n",
    "the course.<br>\n",
    "\n",
    "__Linear charge density__. In one common situation, the charged object has a large extension in\n",
    "one direction and small extensions in two other directions. For instance, a charged wire or rod\n",
    "often may have a significant length L and a much smaller diameter D. In this case, using a\n",
    "__linear charge density__ $\\lambda (x)$ instead of the volume charge density $\\rho (x,y,z)$ is more convenient,\n",
    "where $\\lambda (x)$ is defined as the charge per unit length $x$ of the wire:<br>\n",
    "\n",
    "<center>$\\lambda (x) = dq/dx$</center><br>\n",
    "Just like $\\rho (x,y,z)$, $\\lambda (x)$ can be used to find the total electric force produced by the wire, but\n",
    "the calculations now depend only on one coordinate $(x)$ instead of three $(x,y,z)$. The\n",
    "calculations are simplified by using $\\lambda$.<br>\n",
    "\n",
    "The linear density $\\lambda$ can be found from volume density $\\rho$ by integrating the volume charge\n",
    "distribution over the transverse directions y and z (__Equation 1__):\n",
    "\n",
    "<br><center>$\\lambda(x)=\\iint \\rho(x,y,z)dydz$</center><br>\n",
    "$\\lambda (x)$ can always be found if $\\rho(x,y,z)$ is known. It is not an independent function, but a\n",
    "simplified representation for the full 3-dimensional charge distribution when the dependence\n",
    "on $y$ and $z$ is small or irrelevant.<br>\n",
    "\n",
    "![piccccccccc.png](attachment:piccccccccc.png)\n",
    "\n",
    "__Derivation of Equation (1)__. To see where this relation\n",
    "between $\\lambda$ and $\\rho$ comes from, consider a part of the\n",
    "wire shown in the figure and divide its volume into\n",
    "many small blocks $\\Delta V(x,y_i\n",
    ",z_j)=\\Delta x \\Delta y_i \\Delta z_j$\n",
    ". The charge\n",
    "of each block is $\\Delta q(x,y_i\n",
    ",z_j)=\\rho(x,y_i\n",
    ",z_j)\\Delta x \\Delta y_i \\Delta z_j$. If we\n",
    "sum charge of all blocks in the interval between $x$ and\n",
    "$x+\\Delta x$, we get the charge $\\Delta q(x)$ in the interval between\n",
    "$x$ and $x+\\Delta x$:<br>\n",
    "\n",
    "<center>$\\Delta q(x) = \\sum\\limits_i \\sum\\limits_j \\Delta q(x,y_i,z_i)= \\sum\\limits_i \\sum\\limits_j \\rho (x,y_i,z_i) \\Delta x \\Delta y_i \\Delta z_j$</center><br>\n",
    "Dviding both sides by $\\delta x$, we get <br>\n",
    "<center>$\\lambda (x) \\approx \\frac{\\Delta q(x)}{\\Delta x}=\\sum\\limits_i \\sum\\limits_j \\rho (x,y_i,z_i) \\Delta y_i \\Delta z_j$ </center><br>\n",
    "This relation becomes Equation (1) in the limit $\\Delta x \\rightarrow 0, \\Delta y_i \\rightarrow 0,$ and $\\Delta z_i \\rightarrow 0$<br>\n",
    "\n"
   ]
  },
  {
   "cell_type": "markdown",
   "metadata": {},
   "source": [
    "# Equipment\n",
    "\n",
    "- Sticky tape \n",
    "- Pith ball on an insulating thread\n",
    "- Pith ball stand\n",
    "- Tape stand (wood dowel w/ base)\n",
    "- Two acrylic rods and wool swatches."
   ]
  },
  {
   "cell_type": "markdown",
   "metadata": {},
   "source": [
    "<center><font size=\"1\" color=\"blue\">----- Begin Lab Report----- Begin Lab Report  ----- Begin Lab Report ----- Begin Lab Report ----- Begin Lab Report ----- Begin Lab Report ----- Begin Lab Report -----</font></center>"
   ]
  },
  {
   "cell_type": "markdown",
   "metadata": {},
   "source": [
    "# Title Block\n",
    "Date: \n",
    "<br>\n",
    "Group Number: \n",
    "\n",
    "Author: \n",
    "<br>\n",
    "Partner 1: \n",
    "<br>\n",
    "Partner 2: "
   ]
  },
  {
   "cell_type": "markdown",
   "metadata": {},
   "source": [
    "# Abstract\n",
    "\n",
    "*Wrire your abstract here.  Delete this text when done.*"
   ]
  },
  {
   "cell_type": "markdown",
   "metadata": {},
   "source": [
    "# Procedure and Analysis\n",
    "---"
   ]
  },
  {
   "cell_type": "markdown",
   "metadata": {},
   "source": [
    "### 1. Electrical interations\n",
    "A. Press a piece of stick tape, about 15-20 cm in length, firmly onto a smooth unpainted surface, for example, a notebook or an unpainted tabletop. (For ease in handling, make \"handles\" by folding each ened of the tape to form portions that are not sticky.) Then peel the tape off the table and hang it from a support (_e.g._, a wooden dowel or the edge of a table).<br>\n",
    "\n",
    "Describe the behavior of the tape as you bring objects toward it (_e.g._, a hand, a pen)."
   ]
  },
  {
   "cell_type": "markdown",
   "metadata": {},
   "source": [
    "#### Click on this Markdown cell and use it for your response. Erase this message when done."
   ]
  },
  {
   "cell_type": "markdown",
   "metadata": {},
   "source": [
    "B. Make another piece of tape as described above. Bring the second tape toward the first. Describe your observations."
   ]
  },
  {
   "cell_type": "markdown",
   "metadata": {},
   "source": [
    "#### Click on this Markdown cell and use it for your response. Erase this message when done."
   ]
  },
  {
   "cell_type": "markdown",
   "metadata": {},
   "source": [
    "It is important, as you perform the experiment above, that you keep your hands and other objects away from the tapes. Explain why this precaution is necessary."
   ]
  },
  {
   "cell_type": "markdown",
   "metadata": {},
   "source": [
    "#### Click on this Markdown cell and use it for your response. Erase this message when done."
   ]
  },
  {
   "cell_type": "markdown",
   "metadata": {},
   "source": [
    "How does the distance between the tapes affect the interaction between them?"
   ]
  },
  {
   "cell_type": "markdown",
   "metadata": {},
   "source": [
    "#### Click on this Markdown cell and use it for your response. Erase this message when done."
   ]
  },
  {
   "cell_type": "markdown",
   "metadata": {},
   "source": [
    "C. Each member of your group should press a tape onto the table and write a \"B\" (for bottom) on it. Then press another tape on top of each B tape and label it \"I\" (for top).\n",
    "\n",
    "Pull each pair of tapes off the table as a unit. After they are off the table, seperate the T and B tapes. Hang one of the T tapes and one of the B tapes from the support at your table.\n",
    "\n",
    "Describe the interaction between the following pairs of tape when they are brought near one another.\n",
    "\n",
    "- two T tapes\n",
    "- two B tapes\n",
    "- a T and a B tape"
   ]
  },
  {
   "cell_type": "markdown",
   "metadata": {},
   "source": [
    "#### Click on this Markdown cell and use it for your response. Erase this message when done."
   ]
  },
  {
   "cell_type": "markdown",
   "metadata": {},
   "source": [
    "D. Obtain an acrylic rod and a piece of wool or fur. Rub the rod with the wool, and then hold the rod near newly made T and B tapes on the wooden dowel.\n",
    "\n",
    "Compare the interations of the rod with the tapes to the interactions between the tapes in part C. Describe any similarities or differences.\n",
    "\n",
    "We say that the rod and tapes are _electrically charged_ when they interact as you have observed."
   ]
  },
  {
   "cell_type": "markdown",
   "metadata": {},
   "source": [
    "#### Click on this Markdown cell and use it for your response. Erase this message when done."
   ]
  },
  {
   "cell_type": "markdown",
   "metadata": {},
   "source": [
    "E. Base your answers to the following questions on the observations you have made thus far.\n",
    "\n",
    "I. Is it possible that there is only one type of charge? If not, what is the minimum number of different types of charge neededd to account for your observations thus far? Explain."
   ]
  },
  {
   "cell_type": "markdown",
   "metadata": {},
   "source": [
    "#### Click on this Markdown cell and use it for your response. Erase this message when done."
   ]
  },
  {
   "cell_type": "markdown",
   "metadata": {},
   "source": [
    "II.  By convention, a glass rod is said to be \"positively charged\" when rubbed with silk. Your instructor will tell you whether your aacrylic rod is positively or negatively charged when rubbed with the particular material you are using.\n",
    "\n",
    "How do two objects that are positively charged interact? Explain how you can tell.\n",
    "\n",
    "Which tape, T or B, has a positive charge? Explain."
   ]
  },
  {
   "cell_type": "markdown",
   "metadata": {},
   "source": [
    "#### Click on this Markdown cell and use it for your response. Erase this message when done."
   ]
  },
  {
   "cell_type": "markdown",
   "metadata": {},
   "source": [
    "Discuss part 1 with a tutorial instructor before continuing.\n",
    "\n",
    "_Please remove all tape from the tabletop before continuing_."
   ]
  },
  {
   "cell_type": "markdown",
   "metadata": {},
   "source": [
    "### 2. Superposition\n",
    "\n",
    "_Coulomb's law_ states that the electric force between two _point charges_ acts along the line connecting the two points. (A _point charge_ is a charged object that is sufficiently small that charge can be treated as if it were all located at a single point.) The magnitude of the force on either of hte charges is proportional to the product of the charges and is inversely proportional to the square of the distance between the charges. "
   ]
  },
  {
   "cell_type": "markdown",
   "metadata": {},
   "source": [
    "\n",
    "![2Apic.png](attachment:2Apic.png)\n",
    "\n",
    "A. Two positive point charges $+q$ and $+Q$ (with $\\mid Q \\mid > \\mid q \\mid$) are held in place a distance $s$ apart.\n",
    "\n",
    "1. Indicate the direction of the electric force exerted on each charge by the other.\n",
    "2. Is the force on the $+q$ charge by the $+Q$ charge _greater than, less than_, or _equal to_ the force on the $+Q$ charge by the $+q$ charge? Explain.\n",
    "3. By what factor would the magnitude of the electric force on the $+q$ charge change if the charges were instead separated by a distance $2s$?"
   ]
  },
  {
   "cell_type": "markdown",
   "metadata": {},
   "source": [
    "1. \n",
    "2. Force on q is equal to the force on Q because each force has equal but opposite direction; it is the same amount force\n",
    "\n",
    "3. factor of 1/4"
   ]
  },
  {
   "cell_type": "markdown",
   "metadata": {},
   "source": [
    "\n",
    "![2Bpic.png](attachment:2Bpic.png)\n",
    "\n",
    "B. Two more $+Q$ charges are held in place the same distance $s$ away form the $+q$ charge as shown. Consider the following student dialogue concerning the net force on the $+q$ charge:\n",
    "\n",
    "Student 1: \"The net electric force on the $+q$ charge is now three times as large as before, since there are now three positive charges exerting forces on it.\"\n",
    "\n",
    "Student 2: \"I don't think so. The force from the $+Q$ charge on the left will cancel the force from the $+Q$ charge on the right. The net electric force will be the same as in part A.\"\n",
    "\n",
    "1. Do you agree with either student? Explain\n",
    "2. Indicate the direction of the next electric force on the $+q$ charge. Explain.\n",
    "3. What, if anything, can be said about how the magnitude of the net electric force on the $+q$ charge changes when the two $+Q$ charges are added? Explain."
   ]
  },
  {
   "cell_type": "markdown",
   "metadata": {},
   "source": [
    "1. No neither student is right because only part of the two added charges are effecting the original q charge\n",
    "\n",
    "2. \n",
    "\n",
    "3. The x-axis of the two added charges cancel out; leaving the y-axis force of charge in addition to the original charge"
   ]
  },
  {
   "cell_type": "markdown",
   "metadata": {},
   "source": [
    "C. Rank the four cases below according to the magnitude of the net electric force on the $+q$ charge. Explain how you determined your ranking.\n",
    "\n",
    "\n",
    "Check your ranking with a tutorial instructor before continuing.\n",
    "\n",
    "![2Cpic.png](attachment:2Cpic.png)\n"
   ]
  },
  {
   "cell_type": "markdown",
   "metadata": {},
   "source": [
    "DBAC is the ranking\n",
    "\n",
    "D there is only a slight cancelation along x axis but a large force to the right\n",
    "\n",
    "C is the same as D but without the additional charge\n",
    "\n",
    "A adds charges but less than C because those additional ones cancel along the x axis\n",
    "\n",
    "C is weaker than A because the charges are farther apart along the same vector"
   ]
  },
  {
   "cell_type": "markdown",
   "metadata": {},
   "source": [
    "### 3. Distributed charge\n",
    "A. Charge an acrylic rod by rubbing it with wool.\n",
    "\n",
    "Obtain a small pith ball attached to an insulating thread. Touch the ball to the charged rod and observe the behavior of the ball after it touches the rod.\n",
    "\n",
    "Is the ball charged after it touches the rod? If so, does the ball have the same sign charge as the rod or the opposite sign charge? Explain how you can tell."
   ]
  },
  {
   "cell_type": "markdown",
   "metadata": {},
   "source": [
    "Yes; because the postive rod gave the positive charges to the pith ball when they touched; We can tell because they repel after touching"
   ]
  },
  {
   "cell_type": "markdown",
   "metadata": {},
   "source": [
    "\n",
    "![3Bpic.png](attachment:3Bpic.png)\n",
    "\n",
    "B. Hold the charged rod horizontally. Use a charged pith ball to explore the region around the rod. On the basis of your observations, sketch a _vector_ to represent the net electric force on the ball at each of the points marked by an \"x.\"\n",
    "\n",
    "Is all of the charge on the rod located at a single point? (_e.g._, Is all the charge at the tip of the rod? At the middle?) Explain how you can tell.\n",
    "\n",
    "On the basis of the vectors you have drawn, is it appropriate to consider the charged rod as a point charge? Explain."
   ]
  },
  {
   "cell_type": "markdown",
   "metadata": {},
   "source": [
    "#### Click on this Markdown cell and use it for your response. Erase this message when done."
   ]
  },
  {
   "cell_type": "markdown",
   "metadata": {},
   "source": [
    "C. Imagine that two charged rods are held together as shown and a charged pith ball is placed at point _P_.\n",
    "\n",
    "![3Cpic.png](attachment:3Cpic.png)\n",
    "\n",
    "Predict whether the rod farther from point _P_ would exert an electric force on the pith ball. Explain.\n",
    "\n",
    "Check your prediction by placing a charged pith ball at point _P_ near two charged rods and then slowly moving one rod away from the other. Describe your observations and discuss with your partners whether your results from this experiment support your prediction."
   ]
  },
  {
   "cell_type": "markdown",
   "metadata": {},
   "source": [
    "#### Click on this Markdown cell and use it for your response. Erase this message when done."
   ]
  },
  {
   "cell_type": "markdown",
   "metadata": {},
   "source": [
    "D. Five short segments (labeled 1-5) of acrylic rod are arranged as shown. All were rubbed with wool and have the same magnitude charge. A charged pith ball is placed in turn at the locations marked by points A and B.\n",
    "\n",
    "![3Dpic.png](attachment:3Dpic.png)\n",
    "\n",
    "Indicate the approximate direction of the force on the pith ball at points A and B due to segment 5 alone.\n",
    "\n",
    "What is the direction of the _net force_ on the pith ball at points A and B? Explain how you determined your answer.\n",
    "\n",
    "Does segment 2 exert a force on the pith ball when the pith ball is placed at point B? Explain."
   ]
  },
  {
   "cell_type": "markdown",
   "metadata": {},
   "source": [
    "#### Click on this Markdown cell and use it for your response. Erase this message when done."
   ]
  },
  {
   "cell_type": "markdown",
   "metadata": {},
   "source": [
    "E. In case A at right, a point charge $+q$ is a distance $s$ from the center of a small ball with charge $+Q$.\n",
    "\n",
    "In case B the $+q$ charge is a distance $s$ from the center of an acrylic rod with a total charge $+Q$.\n",
    "\n",
    "![3Epic.png](attachment:3Epic.png)\n",
    "\n",
    "Consider the following student dialogue:\n",
    "\n",
    "Student 1: \"The charged rod and the charged ball have the same charge, $+Q$, and are the same distance from the point charge, $+q$. So the force on $+q$ will be the same in both casses.\"\n",
    "\n",
    "Student 2: \"No, in case B there are charges spread all over the rod. The charge directly below the point charge will exert the same force on $+q$ as the ball in case A . The rest of the charge on the rod will make the force in case B bigger.\"\n",
    "\n",
    "Neither student is correct. Discuss with your partners the errors made by each student. Write a correct description of how the forces compare in the space below. Explain."
   ]
  },
  {
   "cell_type": "markdown",
   "metadata": {},
   "source": [
    "#### Click on this Markdown cell and use it for your response. Erase this message when done."
   ]
  },
  {
   "cell_type": "markdown",
   "metadata": {},
   "source": [
    "### 4. A Model For Electric Charge - This Section has been Omitted"
   ]
  },
  {
   "cell_type": "markdown",
   "metadata": {},
   "source": [
    "### 5. Charge Density\n",
    "A rectangular insulating block has charge $Q_0$ spread uniformly throughout its volume $V_0$ to give a volume charge density $\\rho_0$.\n",
    "\n",
    "A. Four charged insulating blocks are shown below. For each\n",
    "block, the volume is given as well as either the charge or the\n",
    "charge density of the block. Suppose that the blocks below were cut in half. From\n",
    "which block or block might the block above have been taken? Explain.\n",
    "\n",
    "![5Apic.png](attachment:5Apic.png)\n"
   ]
  },
  {
   "cell_type": "markdown",
   "metadata": {},
   "source": [
    "#### Click on this Markdown cell and use it for your response. Erase this message when done."
   ]
  },
  {
   "cell_type": "markdown",
   "metadata": {},
   "source": [
    "B. Imagine the block is divided into 10 equal slices in the y direction, 20 in z and 50 in x, so that it is composed of $10 \\times 20 \\times 50 = 10000$ identical small blocks.\n",
    "\n",
    "![5bpic.png](attachment:5bpic.png)\n",
    "\n",
    "1. What is the volume charge density of each small block? What is the charge contained in each block?\n",
    "2. Let the lengths of the sides be denoted a,b, and c. Consider one of the slices in the x direction. Find the charge contained in the slice. What is the linear charge density along the x direction?\n",
    "3. Suppose half of the block holds a uniform charge $Q_1$, the other half holds $Q_2$, as is shown. What is the linear charge density along the x direction?\n",
    "\n",
    "![5B3pic.png](attachment:5B3pic.png)\n"
   ]
  },
  {
   "cell_type": "markdown",
   "metadata": {},
   "source": [
    "#### Click on this Markdown cell and use it for your response. Erase this message when done."
   ]
  },
  {
   "cell_type": "markdown",
   "metadata": {},
   "source": [
    "# Conclusion"
   ]
  },
  {
   "cell_type": "markdown",
   "metadata": {},
   "source": [
    "#### Click on this Markdown cell and use it for your conclusion. Erase this message when done.\n",
    "\n",
    "Summarize what you __learned__ today (not what you __did__)"
   ]
  },
  {
   "cell_type": "markdown",
   "metadata": {},
   "source": [
    "# Useful Links\n",
    "\n",
    "[Markdown Cheat Sheet](https://guides.github.com/pdfs/markdown-cheatsheet-online.pdf)\n",
    "\n",
    "[Online Markdown Table Generator](https://www.tablesgenerator.com/markdown_tables#)\n",
    "\n",
    "[Latex Mathematical Cheat Sheet](http://www.physics.smu.edu/rguarino/symbols.pdf)"
   ]
  }
 ],
 "metadata": {
  "kernelspec": {
   "display_name": "Python 3",
   "language": "python",
   "name": "python3"
  },
  "language_info": {
   "codemirror_mode": {
    "name": "ipython",
    "version": 3
   },
   "file_extension": ".py",
   "mimetype": "text/x-python",
   "name": "python",
   "nbconvert_exporter": "python",
   "pygments_lexer": "ipython3",
   "version": "3.6.5"
  }
 },
 "nbformat": 4,
 "nbformat_minor": 2
}
