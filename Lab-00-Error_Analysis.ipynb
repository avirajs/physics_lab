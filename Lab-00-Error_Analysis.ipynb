{
 "cells": [
  {
   "cell_type": "code",
   "execution_count": 1,
   "metadata": {},
   "outputs": [
    {
     "data": {
      "text/html": [
       "\n",
       "<script>\n",
       "\n",
       "    // Automatically hides code, but can be toggled to display/hide code\n",
       "\n",
       "    code_show=true; \n",
       "    function code_toggle() {\n",
       "        if (code_show){\n",
       "            $('div.input').hide();\n",
       "        } else {\n",
       "            $('div.input').show();\n",
       "        }\n",
       "        code_show = !code_show\n",
       "    } \n",
       "    $( document ).ready(code_toggle);\n",
       "\n",
       "</script>\n",
       "\n",
       "<form action=\"javascript:code_toggle()\"><input type=\"submit\" value=\"Toggle Display Code\"></form>"
      ],
      "text/plain": [
       "<IPython.core.display.HTML object>"
      ]
     },
     "metadata": {},
     "output_type": "display_data"
    }
   ],
   "source": [
    "%%html\n",
    "\n",
    "<script>\n",
    "\n",
    "    // Automatically hides code, but can be toggled to display/hide code\n",
    "\n",
    "    code_show=true; \n",
    "    function code_toggle() {\n",
    "        if (code_show){\n",
    "            $('div.input').hide();\n",
    "        } else {\n",
    "            $('div.input').show();\n",
    "        }\n",
    "        code_show = !code_show\n",
    "    } \n",
    "    $( document ).ready(code_toggle);\n",
    "\n",
    "</script>\n",
    "\n",
    "<form action=\"javascript:code_toggle()\"><input type=\"submit\" value=\"Toggle Display Code\"></form>"
   ]
  },
  {
   "cell_type": "markdown",
   "metadata": {},
   "source": [
    "# Jupyter Notebook Instructions\n",
    "- <div class=\"alert alert-block alert-info\">To begin, click 'Cell' on the toolbar then select 'Run All'. __Only do this once__.</div>\n",
    "- <div class=\"alert alert-block alert-warning\">__All work must be done in Markdown cells.__ To __type a response__ in a Markdown cell, __double click the Markdown cell then begin writing__. When __finished, press _shift_ and _enter___ and your text will render.</div>\n",
    "- <div class=\"alert alert-block alert-success\"> To insert a Markdown cell, click the small '+' icon located just below the 'file' button on the toolbar. Then change the cell type from Code to Markdown by clicking on the pull down menu located just below the 'Widgets button on the toolbar.</div>"
   ]
  },
  {
   "cell_type": "markdown",
   "metadata": {},
   "source": [
    "### Refer to the links at the bottom of the page for ways to create symbols, tables, and lists in Markdown."
   ]
  },
  {
   "cell_type": "markdown",
   "metadata": {},
   "source": [
    "Date: \n",
    "<br></br>\n",
    "Group Number:\n",
    "<br>\n",
    "\n",
    "Author: Aviraj Sinha\n",
    "<br></br>\n",
    "Partner 1: Mingfu Li\n",
    "<br></br>\n",
    "Partner 2: Luis Sanabria\n"
   ]
  },
  {
   "cell_type": "markdown",
   "metadata": {},
   "source": [
    "# Background\n",
    "\n",
    "Error in this context does not mean mistake but rather refers to the uncertainty in a measurement. All measurements in practice and even in principle have some error associated with them; no measured quantity can be determined with infinite precision.\n",
    "\n",
    "## Statistical Errors (also known as Random Errors)\n",
    "\n",
    "Most measurements involve reading a scale. The fineness of the scale markings (how close together they are) is limited and the width of the scale lines is nonzero. In every case, the final reading must be estimated and is therefore uncertain. This kind of scale-reading error is random since we expect that half of the time the estimate will be too small, and the other half of the time the estimate will be too large. We expect that random errors should cancel on average, that is, many measurements of the same quantity should produce a more reliable estimate. Statistical errors can be controlled by performing a sufficiently large number of measurements. The error estimate on a single scale reading can be taken as half of the scale width. For example, if you were measuring length with a scale marked in millimeters, you might quote the reading as 17.0 mm $\\pm$ 0.5 mm. If you measured the same length many times, you would expect the error on the measurement to decrease. This is indeed the case. The best estimate of the measured quantity is the mean or average of all the measurements. Simply add all the individual measurements together and divide by the number of measurements. The best estimate of the error associated with the mean value is called the \"error on the mean\" and is given by (the error on a single measurement) divided by (the square root of the number of measurements). Obviously, this will decrease as the number of measurements increases. The final reading for a quantity should be quoted as: (mean) $\\pm$ (error on the mean).\n",
    "\n",
    "## Error Propagation\n",
    "### Addition and Subtraction\n",
    "If several quantities with associated random errors are given by: $x\\pm \\Delta{x},\\ y\\pm \\Delta{y},...,\\ z\\pm \\Delta{z},$ then the sum or difference is given by $q \\pm \\Delta{q}$ where $q$ might be\n",
    "<br><br><center>$\\displaystyle q = x +y -z$</center></br></br>\n",
    "\n",
    "and the error on $q$ is propagated from the errors on $x,\\ y,...,$ and $z$ as follows\n",
    "<br><br><center>$\\displaystyle \\Delta{q}=\\sqrt{(\\Delta{x})^{2}+(\\Delta{y})^{2}+...+(\\Delta{z})^{2}}$</center></br></br>\n",
    "\n",
    "\n",
    "Notice that the errors are added in quadrature, even when the quantities are being subtracted. The error always increases when adding or subtracting quantities.\n",
    "### Multiplication and Division\n",
    "If several quantities with associated random errors are given by: $x\\pm \\Delta{x},\\ y\\pm \\Delta{y},...,\\ z\\pm \\Delta{z},$ then the product or quotient is given by $q \\pm \\Delta{q}$ where $q$ might be\n",
    "<br><br><center>$\\displaystyle q = x \\times \\frac{y}{z}$</center></br></br>\n",
    "\n",
    "and the error on $q$ is propagated from the errors on $x,\\ y,...,$ and $z$ as follows\n",
    "<br><br><center>$\\displaystyle \\frac{\\Delta{q}}{q}=\\sqrt{\\left(\\frac{\\Delta{x}}{x}\\right)^{2}+\\left(\\frac{\\Delta{y}}{y}\\right)^{2}+...+\\left(\\frac{\\Delta{z}}{z}\\right)^{2}}$</center></br></br>\n",
    "## Systematic Errors\n",
    "\n",
    "These errors are more insidious than statistical errors. Systematic errors are difficult to detect, and the sizes of systematic errors are difficult to estimate. Increasing the number of measurements has no effect on systematic errors because the error is always in the same direction (all measurements too high, or all measurements too low). Careful instrument calibration and understanding of the measurement being made are part of prevention. For example, suppose that you are using a stopwatch to time runners in the 100-meter dash. You are quite adept at making the measurement, but -- unknown to you -- the watch runs $5\\%$ fast. All times will be $5\\%$ too high. There will be no immediately obvious indication of a problem. If you happen to be familiar with the runners' normal times, you might notice that everyone seems to be having a slow day. To prevent such problems, one should calibrate the stopwatch with a known standard such as the Nation Institute of Standards and Technology's standard time service on short wave radio. The rules are: 1) the error should have one significant figure; 2) the number of decimal places in the measurement should be the same as the number of decimal places in the error. Always remember: There is no such thing as \"human error\". Try to find the deeper cause for any uncertainty or variation.\n",
    "\n",
    "![Measurement_1106_pa.png](attachment:Measurement_1106_pa.png)"
   ]
  },
  {
   "cell_type": "markdown",
   "metadata": {},
   "source": [
    "# Equipment\n",
    "\n",
    "- D-cell\n",
    "- Red lead wire\n",
    "- Black lead wire\n",
    "- [Analog voltmeter](http://www.physics.smu.edu/rguarino/apparatus/voltmeter.gif)"
   ]
  },
  {
   "cell_type": "markdown",
   "metadata": {},
   "source": [
    "# Abstract"
   ]
  },
  {
   "cell_type": "markdown",
   "metadata": {},
   "source": [
    "#### Click on this Markdown cell and use it for your abstract. Erase this message when done."
   ]
  },
  {
   "cell_type": "markdown",
   "metadata": {},
   "source": [
    "# Procedure/Data\n",
    "\n",
    "Mark your D-cell so that you will be able to recognize it again.\n",
    "\n",
    "1. Connect the black lead wire between the the COM (common) terminal of the analog volt meter and the bottom of the D-cell. Connect the red lead wire between the 3-volt maximum terminal of the analog volt meter and the top of the D-cell. Record the measured voltage with an error estimate. "
   ]
  },
  {
   "cell_type": "markdown",
   "metadata": {},
   "source": []
  },
  {
   "cell_type": "markdown",
   "metadata": {},
   "source": [
    "# Analysis\n",
    "\n",
    "---\n",
    "### Error Analysis"
   ]
  },
  {
   "cell_type": "markdown",
   "metadata": {},
   "source": [
    "__Part 1__:\n",
    "\n",
    "Calculate the fractional error, $\\frac{\\Delta{V}}{V} \\times 100 \\%$ (keep one or two significant figures in the fractional error). "
   ]
  },
  {
   "cell_type": "markdown",
   "metadata": {},
   "source": [
    "#### Click on this Markdown cell and use it for your response to 1. Erase this message when done."
   ]
  },
  {
   "cell_type": "markdown",
   "metadata": {},
   "source": [
    "__Part 2__: \n",
    "\n",
    "Connect the red lead between the 15-volt maximum terminal of the analog volt meter and the top of the D-cell. Record the measured voltage with an error estimate.\n",
    "\n",
    "Calculate the fractional error."
   ]
  },
  {
   "cell_type": "markdown",
   "metadata": {},
   "source": [
    "#### Click on this Markdown cell and use it for your response to 2. Erase this message when done."
   ]
  },
  {
   "cell_type": "markdown",
   "metadata": {},
   "source": [
    "__Part 3__:\n",
    "\n",
    "Connect the red lead between the 30-volt maximum terminal of the analog volt meter and the top of the D-cell. Record the measured voltage with an error estimate.\n",
    "\n",
    "Calculate the fractional error. "
   ]
  },
  {
   "cell_type": "markdown",
   "metadata": {},
   "source": [
    "#### Click on this Markdown cell and use it for your response to 3. Erase this message when done."
   ]
  },
  {
   "cell_type": "markdown",
   "metadata": {},
   "source": [
    "__Part 4__:\n",
    "\n",
    "Exchange D-cells with the group across the aisle. Perform the same measurements as on the previous page. For each of the three measurements state whether or not the readings by the two groups agree, that is, do the error estimates overlap? (See Taylor page 5 if you are confused.) Make sure that you are comparing measurements for the __SAME__ D-cell. That is, you should have your readings and their readings both for YOUR D-cell. They should have their readings and your readings both for THEIR D-cell.\n",
    "\n",
    "Below is a __picture__ of the desired format for the table.\n",
    "\n",
    "![Table_measurementerror1106.png](attachment:Table_measurementerror1106.png)"
   ]
  },
  {
   "cell_type": "markdown",
   "metadata": {},
   "source": [
    "#### Click on this Markdown cell and use it for your response to 4. Erase this message when done."
   ]
  },
  {
   "cell_type": "markdown",
   "metadata": {},
   "source": [
    "__Part 5__:\n",
    "\n",
    "List two sources of random (or statistical) error."
   ]
  },
  {
   "cell_type": "markdown",
   "metadata": {},
   "source": [
    "#### Click on this Markdown cell and use it for your response to 5. Erase this message when done."
   ]
  },
  {
   "cell_type": "markdown",
   "metadata": {},
   "source": [
    "__Part 6__:\n",
    "\n",
    "List two sources of systematic error."
   ]
  },
  {
   "cell_type": "markdown",
   "metadata": {},
   "source": [
    "#### Click on this Markdown cell and use it for your response to 6. Erase this message when done."
   ]
  },
  {
   "cell_type": "markdown",
   "metadata": {},
   "source": [
    "# Conclusion"
   ]
  },
  {
   "cell_type": "markdown",
   "metadata": {},
   "source": [
    "#### Click on this Markdown cell and use it for your conclusion. Erase this message when done.\n",
    "\n",
    "Make a general statement about the procedure for devices with multiple analog scales to obtain the lowest fractional error possible.\n",
    "\n",
    "Summarize what you __learned__ today (not what you __did__)"
   ]
  },
  {
   "cell_type": "markdown",
   "metadata": {},
   "source": [
    "# A Puzzle\n",
    "\n",
    "Using a D-cell, a flashlight bulb, and __one__ wire, make the bulb glow. Draw a large diagram of your method and attach it below. Make sure it is clear enough so that a five-year-old could look at your figure and light the bulb. "
   ]
  },
  {
   "cell_type": "markdown",
   "metadata": {},
   "source": [
    "#### Click on this Markdown cell and use it for your response to the puzzle. Erase this message when done."
   ]
  },
  {
   "cell_type": "markdown",
   "metadata": {},
   "source": [
    "# Useful Links\n",
    "\n",
    "[Markdown Cheat Sheet](https://guides.github.com/pdfs/markdown-cheatsheet-online.pdf)\n",
    "\n",
    "[Online Markdown Table Generator](https://www.tablesgenerator.com/markdown_tables#)\n",
    "\n",
    "[Latex Mathematical Cheat Sheet](http://www.physics.smu.edu/rguarino/symbols.pdf)"
   ]
  }
 ],
 "metadata": {
  "kernelspec": {
   "display_name": "Python 3",
   "language": "python",
   "name": "python3"
  },
  "language_info": {
   "codemirror_mode": {
    "name": "ipython",
    "version": 3
   },
   "file_extension": ".py",
   "mimetype": "text/x-python",
   "name": "python",
   "nbconvert_exporter": "python",
   "pygments_lexer": "ipython3",
   "version": "3.6.5"
  }
 },
 "nbformat": 4,
 "nbformat_minor": 2
}
